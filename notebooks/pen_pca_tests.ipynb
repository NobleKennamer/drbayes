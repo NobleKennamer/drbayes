{
 "cells": [
  {
   "cell_type": "code",
   "execution_count": 12,
   "metadata": {},
   "outputs": [],
   "source": [
    "import numpy as np\n",
    "import matplotlib.pyplot as plt\n",
    "import torch\n",
    "%matplotlib inline"
   ]
  },
  {
   "cell_type": "code",
   "execution_count": 13,
   "metadata": {},
   "outputs": [],
   "source": [
    "from swag.posteriors._assess_dimension import _infer_dimension_\n",
    "from swag.posteriors.subspaces import FreqDirSpace"
   ]
  },
  {
   "cell_type": "code",
   "execution_count": 14,
   "metadata": {},
   "outputs": [],
   "source": [
    "from sklearn.decomposition import PCA, TruncatedSVD\n",
    "from sklearn.decomposition.pca import _assess_dimension_"
   ]
  },
  {
   "cell_type": "code",
   "execution_count": 15,
   "metadata": {},
   "outputs": [],
   "source": [
    "# Minka's generative model\n",
    "def gen_data(N = 60, d = 100, signal=100, snr = 10):\n",
    "    #var = np.array([10, 8., 6., 4., 2.])\n",
    "    var = np.random.randn(signal) * snr\n",
    "    var = np.concatenate([np.abs(var), np.repeat(a=0.25, repeats=d - len(var), axis = 0)])\n",
    "    \n",
    "    dist = np.random.multivariate_normal(np.zeros(d), np.diag(var), N)\n",
    "    return dist"
   ]
  },
  {
   "cell_type": "code",
   "execution_count": 5,
   "metadata": {},
   "outputs": [],
   "source": [
    "def simulate_n_x(reps = 100, N=100, d=50, signal=10, snr=10):\n",
    "    pen_ppca, ppca, fd_ppca = np.zeros(reps), np.zeros(reps), np.zeros(reps)\n",
    "    for i in range(reps):\n",
    "        if i%10 is 0:\n",
    "            print('Trial: ', i)\n",
    "        data = gen_data(N, d, signal, snr)\n",
    "        \n",
    "        freqdir_space = FreqDirSpace(d, max_rank = int(d/10))\n",
    "        tr_sigma = np.min([np.diag(np.cov(data)).sum(), np.diag(np.cov(data.T)).sum()])\n",
    "        \n",
    "        for row in data:\n",
    "            freqdir_space.collect_vector(torch.FloatTensor(row))\n",
    "            fd_ll_max = freqdir_space._infer_dimension_(tr_sigma)\n",
    "            #print(fd_ll_max)\n",
    "        if d >= N or max(data.shape) > 500:\n",
    "            pca = PCA(n_components=d)\n",
    "        else:\n",
    "            pca = PCA(n_components='mle')\n",
    "        pca.fit(data)\n",
    "        \n",
    "        _, s, _ = np.linalg.svd(data)\n",
    "        \n",
    "\n",
    "        eigs = s**2 / N\n",
    "        ll = np.zeros(len(eigs))\n",
    "        correction = np.zeros(len(eigs))\n",
    "        # compute minka's PCA marginal log likelihood and the correction term\n",
    "        for rank in range(len(eigs)):\n",
    "            # add a secondary correction term based on the rank of the matrix + degrees of freedom\n",
    "            m = max(data.shape) * rank - rank * (rank + 1) / 2.\n",
    "            correction[rank] = 0.5 * m * np.log(min(data.shape))\n",
    "            ll[rank] = _assess_dimension_(spectrum=eigs, rank=rank, \n",
    "                            n_features=min(data.shape), n_samples=max(data.shape))\n",
    "        #pca.fit(data)\n",
    "        ppca[i] = np.argmax(ll) + 1\n",
    "        pen_ppca[i] = np.argmax(ll - correction) + 1\n",
    "        \n",
    "        #ppca[i] = sklearn_infer_dimension(pca.singular_values_**2., n_features=d, n_samples=N)\n",
    "        \n",
    "        \n",
    "        pca2.fit(data)\n",
    "\n",
    "        ll_max, ll, vhat = _infer_dimension_(pca2.explained_variance_, \n",
    "                                             tr_sigma=tr_sigma, n_samples=N, n_features=d)\n",
    "        pen_ppca[i] = ll_max\n",
    "       \n",
    "\n",
    "        fd_ppca[i] = fd_ll_max\n",
    "        \n",
    "    return pen_ppca, ppca, fd_ppca"
   ]
  },
  {
   "cell_type": "code",
   "execution_count": 6,
   "metadata": {},
   "outputs": [
    {
     "name": "stdout",
     "output_type": "stream",
     "text": [
      "Trial:  0\n"
     ]
    },
    {
     "name": "stderr",
     "output_type": "stream",
     "text": [
      "/home/wesley/Documents/Code/private_swa_uncertainties/swag/posteriors/subspaces.py:182: RuntimeWarning: divide by zero encountered in true_divide\n",
      "  fd_eigs = np.diag(fd_a @ fd_a.T) / (self.num_models.item() - 1)\n",
      "/home/wesley/Documents/Code/private_swa_uncertainties/swag/posteriors/_assess_dimension.py:49: RuntimeWarning: invalid value encountered in log\n",
      "  pv = -np.log(v) * n_samples * (n_features - rank) / 2.\n",
      "/home/wesley/Documents/Code/private_swa_uncertainties/swag/posteriors/_assess_dimension.py:62: RuntimeWarning: invalid value encountered in log\n",
      "  (1. / spectrum_[j] - 1. / spectrum_[i])) + np.log(n_samples)\n"
     ]
    },
    {
     "name": "stdout",
     "output_type": "stream",
     "text": [
      "Trial:  10\n",
      "Trial:  20\n",
      "Trial:  30\n",
      "Trial:  40\n",
      "Trial:  50\n",
      "Trial:  60\n",
      "Trial:  70\n",
      "Trial:  80\n",
      "Trial:  90\n"
     ]
    }
   ],
   "source": [
    "lowd_pen_ppca, lowd_ppca, lowd_fd_ppca = simulate_n_x(100, 100, 50, signal=5)"
   ]
  },
  {
   "cell_type": "code",
   "execution_count": 7,
   "metadata": {},
   "outputs": [
    {
     "name": "stderr",
     "output_type": "stream",
     "text": [
      "4.41 1.209090567327361\n",
      "4.73 0.5070502933634887\n",
      "2.9 1.161895003862225\n"
     ]
    },
    {
     "data": {
      "text/plain": [
       "<matplotlib.legend.Legend at 0x1a1aa46ac8>"
      ]
     },
     "execution_count": 18,
     "metadata": {},
     "output_type": "execute_result"
    },
    {
     "data": {
      "image/png": "[encoded data removed]",
      "text/plain": [
       "<Figure size 432x288 with 1 Axes>"
      ]
     },
     "metadata": {},
     "output_type": "display_data"
    }
   ],
   "source": [
    "print( np.mean(lowd_pen_ppca), np.std(lowd_pen_ppca) )\n",
    "print( np.mean(lowd_ppca), np.std(lowd_ppca) )\n",
    "print( np.mean(lowd_fd_ppca), np.std(lowd_fd_ppca) )"
   ]
  },
  {
   "cell_type": "code",
   "execution_count": 8,
   "metadata": {},
   "outputs": [
    {
     "name": "stdout",
     "output_type": "stream",
     "text": [
      "0.23\n",
      "0.76\n"
     ]
    }
   ],
   "source": [
    "print( np.mean(lowd_pen_ppca), np.std(lowd_pen_ppca) )\n",
    "print( np.mean(lowd_ppca), np.std(lowd_ppca) )"
   ]
  },
  {
   "cell_type": "code",
   "execution_count": 9,
   "metadata": {},
   "outputs": [
    {
     "name": "stdout",
     "output_type": "stream",
     "text": [
      "Trial:  0\n"
     ]
    },
    {
     "name": "stderr",
     "output_type": "stream",
     "text": [
      "/home/wesley/Documents/Code/private_swa_uncertainties/swag/posteriors/subspaces.py:182: RuntimeWarning: divide by zero encountered in true_divide\n",
      "  fd_eigs = np.diag(fd_a @ fd_a.T) / (self.num_models.item() - 1)\n",
      "/home/wesley/Documents/Code/private_swa_uncertainties/swag/posteriors/_assess_dimension.py:49: RuntimeWarning: invalid value encountered in log\n",
      "  pv = -np.log(v) * n_samples * (n_features - rank) / 2.\n",
      "/home/wesley/Documents/Code/private_swa_uncertainties/swag/posteriors/_assess_dimension.py:62: RuntimeWarning: invalid value encountered in log\n",
      "  (1. / spectrum_[j] - 1. / spectrum_[i])) + np.log(n_samples)\n"
     ]
    },
    {
     "name": "stdout",
     "output_type": "stream",
     "text": [
      "Trial:  10\n",
      "Trial:  20\n",
      "Trial:  30\n",
      "Trial:  40\n",
      "Trial:  50\n",
      "Trial:  60\n",
      "Trial:  70\n",
      "Trial:  80\n",
      "Trial:  90\n"
     ]
    }
   ],
   "source": [
    "highd_pen_ppca, highd_ppca, highd_fd_ppca = simulate_n_x(100, 60, 100, signal=10)"
   ]
  },
  {
   "cell_type": "code",
   "execution_count": 10,
   "metadata": {},
   "outputs": [
    {
     "name": "stdout",
     "output_type": "stream",
     "text": [
      "4.71 0.6825686778632609\n",
      "59.0 0.0\n",
      "6.59 1.4428790663115187\n"
     ]
    }
   ],
   "source": [
    "print( np.mean(highd_pen_ppca), np.std(highd_pen_ppca) )\n",
    "print( np.mean(highd_ppca), np.std(highd_ppca) )\n",
    "print( np.mean(highd_fd_ppca), np.std(highd_fd_ppca) )"
   ]
  },
  {
   "cell_type": "code",
   "execution_count": 11,
   "metadata": {},
   "outputs": [
    {
     "name": "stdout",
     "output_type": "stream",
     "text": [
      "0.54\n",
      "0.0\n"
     ]
    }
   ],
   "source": [
    "print( np.mean(highd_pen_ppca == 20) )\n",
    "print( np.mean(highd_ppca == 20))"
   ]
  },
  {
   "cell_type": "code",
   "execution_count": 13,
   "metadata": {},
   "outputs": [
    {
     "name": "stdout",
     "output_type": "stream",
     "text": [
      "Trial:  0\n"
     ]
    },
    {
     "name": "stderr",
     "output_type": "stream",
     "text": [
      "/home/wesley/Documents/Code/private_swa_uncertainties/swag/posteriors/subspaces.py:182: RuntimeWarning: divide by zero encountered in true_divide\n",
      "/home/wesley/Documents/Code/private_swa_uncertainties/swag/posteriors/_assess_dimension.py:49: RuntimeWarning: invalid value encountered in log\n",
      "  pv = -np.log(v) * n_samples * (n_features - rank) / 2.\n",
      "/home/wesley/Documents/Code/private_swa_uncertainties/swag/posteriors/_assess_dimension.py:62: RuntimeWarning: invalid value encountered in log\n",
      "  (1. / spectrum_[j] - 1. / spectrum_[i])) + np.log(n_samples)\n"
     ]
    },
    {
     "name": "stdout",
     "output_type": "stream",
     "text": [
      "Trial:  10\n"
     ]
    }
   ],
   "source": [
    "vhighd_pen_ppca, vhighd_ppca, vhighd_fd_ppca = simulate_n_x(20, N=4000, d=500, signal=20, snr = 100)"
   ]
  },
  {
   "cell_type": "code",
   "execution_count": null,
   "metadata": {},
   "outputs": [],
   "source": [
    "print( np.mean(vhighd_pen_ppca), np.std(vhighd_pen_ppca) )\n",
    "print( np.mean(vhighd_ppca), np.std(vhighd_ppca) )\n",
    "print( np.mean(vhighd_fd_ppca), np.std(vhighd_fd_ppca) )"
   ]
  },
  {
   "cell_type": "code",
   "execution_count": null,
   "metadata": {},
   "outputs": [],
   "source": [
    "#vhighd_pen_ppca, vhighd_ppca = simulate_n_x(10, N=1000, d=10000, signal=100, snr = 100)"
   ]
  },
  {
   "cell_type": "code",
   "execution_count": null,
   "metadata": {},
   "outputs": [],
   "source": [
    "#print( np.mean(vhighd_pen_ppca), np.std(vhighd_pen_ppca) )\n",
    "#print( np.mean(vhighd_ppca), np.std(vhighd_ppca) )"
   ]
  },
  {
   "cell_type": "code",
   "execution_count": 16,
   "metadata": {},
   "outputs": [],
   "source": [
    "np.savez(file='pen_pca_tests.npz',\n",
    "    lowd_pen_ppca=lowd_pen_ppca, lowd_ppca=lowd_ppca, lowd_fd_ppca=lowd_fd_ppca,\n",
    "    highd_pen_ppca=highd_pen_ppca, highd_ppca=highd_ppca, highd_fd_ppca=highd_fd_ppca,\n",
    "      vhighd_pen_ppca=vhighd_pen_ppca, vhighd_ppca=vhighd_ppca, vhighd_fd_ppca=vhighd_fd_ppca\n",
    ")"
   ]
  },
  {
   "cell_type": "code",
   "execution_count": null,
   "metadata": {},
   "outputs": [],
   "source": []
  }
 ],
 "metadata": {
  "kernelspec": {
   "display_name": "Python 3",
   "language": "python",
   "name": "python3"
  },
  "language_info": {
   "codemirror_mode": {
    "name": "ipython",
    "version": 3
   },
   "file_extension": ".py",
   "mimetype": "text/x-python",
   "name": "python",
   "nbconvert_exporter": "python",
   "pygments_lexer": "ipython3",
   "version": "3.6.8"
  }
 },
 "nbformat": 4,
 "nbformat_minor": 2
}
